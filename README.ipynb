{
 "cells": [
  {
   "cell_type": "markdown",
   "id": "a813cc30",
   "metadata": {},
   "source": [
    "# 🎬 streaming_project\n",
    "\n",
    "Analítica de streaming (películas, ratings, plataformas) con pipeline ETL → PostgreSQL (Neon) → BI (Tableau/Power BI) y CI/CD (Jenkins/Docker).\n"
   ]
  },
  {
   "cell_type": "markdown",
   "id": "0c8ad0e4",
   "metadata": {},
   "source": [
    "## 🗓️ Día 1 – Presentación y alcance\n",
    "\n",
    "🎯 **Objetivo:** dejar preparado el entorno de trabajo para iniciar el proyecto de datos.\n",
    "\n",
    "### 🧩 Alcance\n",
    "- **Problema:** integrar y analizar datos de películas (TMDB/IMDb/Netflix) para calcular KPIs y hacer predicción ligera.  \n",
    "- **Arquitectura:** ETL (Python/SQLAlchemy) → Neon (PostgreSQL) → Vistas SQL para BI → Dashboards (Tableau/Power BI).  \n",
    "- **CI/CD:** Jenkins + Docker.  \n",
    "\n",
    "### 📊 KPIs iniciales\n",
    "1. Rating medio por género  \n",
    "2. Top N películas por plataforma  \n",
    "3. % de estrenos por año  \n",
    "4. Distribución de títulos por década  \n",
    "5. Crecimiento del catálogo por plataforma  \n",
    "\n",
    "📁 **Evidencias:**  \n",
    "`docs/day1/architecture.png`, `docs/day1/kpis.md`, `docs/day1/scope.md`\n",
    "\n"
   ]
  },
  {
   "cell_type": "markdown",
   "id": "c1ed46c4",
   "metadata": {},
   "source": [
    "## 📁 Estructura del proyecto\n",
    "```plaintext\n",
    "etl/                    # extract, clean, transform, load\n",
    "sql/                    # DDL/queries/vistas\n",
    "dashboards/\n",
    "  ├─ tableau/\n",
    "  └─ powerbi/\n",
    "infra/                  # Dockerfile, Jenkinsfile, Ansible\n",
    "data/\n",
    "  ├─ raw/\n",
    "  ├─ clean/\n",
    "  └─ processed/\n",
    "docs/\n",
    "  ├─ day1/\n",
    "  └─ day2/\n"
   ]
  },
  {
   "cell_type": "markdown",
   "id": "aea5b899",
   "metadata": {},
   "source": [
    "\n",
    "---\n",
    "\n",
    "#### 🟩 CELDA 4 — Markdown (requisitos de entorno)\n",
    "```markdown\n",
    "## ⚙️ Requisitos (entorno local)\n",
    "\n",
    "Ejecuta estos comandos en tu terminal para crear y configurar tu entorno virtual:\n",
    "\n",
    "```bash\n",
    "python -m venv .venv\n",
    "source .venv/bin/activate   # (Windows: .venv\\Scripts\\activate)\n",
    "pip install -r requirements.txt\n",
    "cp .env.example .env        # Rellena DATABASE_URL con tu cadena de Neon\n"
   ]
  },
  {
   "cell_type": "markdown",
   "id": "8b325cab",
   "metadata": {},
   "source": [
    "\n",
    "---\n",
    "\n",
    "#### 🟩 CELDA 5 — Markdown (commit del día 1)\n",
    "```markdown\n",
    "## 💾 Commit sugerido (Día 1)\n"
   ]
  },
  {
   "cell_type": "markdown",
   "id": "e5e3ef3f",
   "metadata": {},
   "source": [
    "## 🗓️ Día 2 – Creación y sincronización del repositorio GitHub\n",
    "\n",
    "🎯 **Objetivo:** conectar el proyecto local con GitHub para control de versiones y visibilidad pública.\n",
    "\n",
    "### 🔧 Pasos realizados\n",
    "1. Creé el repositorio remoto `streaming_project` en GitHub.  \n",
    "2. Cloné el repositorio mediante **GitHub Desktop**.  \n",
    "3. Moví la estructura local dentro del repo clonado.  \n",
    "4. Realicé el primer *commit* y subí los cambios.  \n",
    "5. Verifiqué la sincronización local ↔ remoto.\n",
    "\n",
    "📁 **Evidencias:**  \n",
    "- Captura del repo online  \n",
    "- Captura del primer commit en GitHub Desktop  \n",
    "- Carpeta `data/hello.txt` subida correctamente\n"
   ]
  },
  {
   "cell_type": "markdown",
   "id": "b7c98dbd",
   "metadata": {},
   "source": [
    "## 💾 Commit sugerido (Día 2)\n"
   ]
  },
  {
   "cell_type": "code",
   "execution_count": 1,
   "id": "01697166",
   "metadata": {},
   "outputs": [
    {
     "name": "stdout",
     "output_type": "stream",
     "text": [
      "Entorno listo 🚀\n"
     ]
    }
   ],
   "source": [
    "# Comprobación rápida del entorno\n",
    "import pandas, sqlalchemy, seaborn, numpy\n",
    "print(\"Entorno listo 🚀\")\n"
   ]
  }
 ],
 "metadata": {
  "kernelspec": {
   "display_name": "base",
   "language": "python",
   "name": "python3"
  },
  "language_info": {
   "codemirror_mode": {
    "name": "ipython",
    "version": 3
   },
   "file_extension": ".py",
   "mimetype": "text/x-python",
   "name": "python",
   "nbconvert_exporter": "python",
   "pygments_lexer": "ipython3",
   "version": "3.13.5"
  }
 },
 "nbformat": 4,
 "nbformat_minor": 5
}
